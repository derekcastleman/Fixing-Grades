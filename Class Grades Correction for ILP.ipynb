{
 "cells": [
  {
   "cell_type": "markdown",
   "id": "42b07c1b",
   "metadata": {},
   "source": [
    "# Transcript Data Correction\n",
    "\n",
    "For this code, the data for all of the courses that the students have taken will be reduced down to the highest grades they earned in a course so that the course number is not overcounted.\n",
    "\n",
    "The focus of this will be in reducing A through G courses down to the two highest grades that the student earned and for BC courses the highest single semester grade that they earned.\n"
   ]
  },
  {
   "cell_type": "code",
   "execution_count": null,
   "id": "55f3bae9",
   "metadata": {},
   "outputs": [],
   "source": [
    "import numpy as np\n",
    "import pandas as pd"
   ]
  },
  {
   "cell_type": "code",
   "execution_count": null,
   "id": "06c7881a",
   "metadata": {},
   "outputs": [],
   "source": [
    "# Place the destination that is desired for the generated file to output\n",
    "output_final = \"C:\\\\Users\\\\derek.castleman\\\\Desktop\\\\MonthlyDataPull\\\\November\\\\Fixed_Grades.xlsx\""
   ]
  },
  {
   "cell_type": "code",
   "execution_count": null,
   "id": "07f1e45e",
   "metadata": {},
   "outputs": [],
   "source": [
    "#Import the historical transcript grades for a student\n",
    "\n",
    "transcript_grades = pd.read_excel(r\"C:\\Users\\derek.castleman\\Desktop\\PrintQueryToExcel_20221130_121338_39365f7.xlsx\")\n",
    "\n",
    "#Import BC course list\n",
    "\n",
    "bc_courses = pd.read_excel(r\"C:\\Users\\derek.castleman\\Desktop\\Copy of Attachement C_A-GBC.xlsx\")"
   ]
  },
  {
   "cell_type": "markdown",
   "id": "9568b371",
   "metadata": {},
   "source": [
    "## Reading in Data and Labeling BC\n",
    "\n",
    "The transcript grades for the students do not label the BC courses for them which will be corrected in this section with a new column for BC added to the transcript data for students."
   ]
  },
  {
   "cell_type": "code",
   "execution_count": null,
   "id": "6f7ece06",
   "metadata": {},
   "outputs": [],
   "source": [
    "transcript_grades"
   ]
  },
  {
   "cell_type": "code",
   "execution_count": null,
   "id": "e700f03a",
   "metadata": {},
   "outputs": [],
   "source": [
    "bc_courses"
   ]
  },
  {
   "cell_type": "code",
   "execution_count": null,
   "id": "74719410",
   "metadata": {},
   "outputs": [],
   "source": [
    "# Changing column name to make for a smoother merging\n",
    "bc_courses = bc_courses.rename(columns={'Course ID':'Course#'})\n",
    "bc_courses"
   ]
  },
  {
   "cell_type": "code",
   "execution_count": null,
   "id": "5725b54d",
   "metadata": {},
   "outputs": [],
   "source": [
    "# Merge the transcipts and the bc courses\n",
    "merged = pd.merge(transcript_grades, bc_courses, how='left', on=['Course#', 'Course title'])\n",
    "\n",
    "merged"
   ]
  },
  {
   "cell_type": "code",
   "execution_count": null,
   "id": "bdf7f06a",
   "metadata": {},
   "outputs": [],
   "source": [
    "# Renaming course column to make it easier for reading\n",
    "merged = merged.rename(columns={'Course title1':'Course'})\n",
    "merged"
   ]
  },
  {
   "cell_type": "code",
   "execution_count": null,
   "id": "6b73deb3",
   "metadata": {},
   "outputs": [],
   "source": [
    "# Allows for a chance to download the data to make sure the BC are labelled properly\n",
    "\n",
    "import base64\n",
    "from IPython.display import HTML\n",
    "\n",
    "def create_download_link( df, title = \"BC Courses\", filename = \"BC Courses\"):\n",
    "    csv = df.to_csv()\n",
    "    b64 = base64.b64encode(csv.encode())\n",
    "    payload = b64.decode()\n",
    "    html = '<a download=\"{filename}\" href=\"data:text/csv;base64,{payload}\" target=\"_blank\">{title}</a>'\n",
    "    html = html.format(payload=payload,title=title,filename=filename)\n",
    "    return HTML(html)\n",
    "\n",
    "create_download_link(merged)"
   ]
  },
  {
   "cell_type": "markdown",
   "id": "295d2b2f",
   "metadata": {},
   "source": [
    "## Fixing A through G - Non-BC courses\n",
    "\n",
    "First the A-G courses that students have taken will be filtered out and then the non-BC courses from this group will be filtered out since these classes are semester only classes. The filtered data will be sorted in order from A to Z. Then the top two rows for any course will be selected getting rid of any extra attempts at the course that the student might have taken."
   ]
  },
  {
   "cell_type": "code",
   "execution_count": null,
   "id": "0ce047a0",
   "metadata": {},
   "outputs": [],
   "source": [
    "# Getting the a through g courses\n",
    "a_g_courses = merged[merged['CSU Req_x'].notna()]\n",
    "a_g_courses"
   ]
  },
  {
   "cell_type": "code",
   "execution_count": null,
   "id": "5b08bc2d",
   "metadata": {},
   "outputs": [],
   "source": [
    "# Removing any bc courses since they are semester courses\n",
    "minus_bc  = a_g_courses[a_g_courses['Crs Lvl(BC: 24)'] != 24]\n",
    "minus_bc"
   ]
  },
  {
   "cell_type": "code",
   "execution_count": null,
   "id": "cfac5ea7",
   "metadata": {},
   "outputs": [],
   "source": [
    "# Checking that no bc remain\n",
    "minus_bc.info()"
   ]
  },
  {
   "cell_type": "code",
   "execution_count": null,
   "id": "1b016830",
   "metadata": {},
   "outputs": [],
   "source": [
    "# Sort by student, course and mark then take top two values\n",
    "grades_sorted = minus_bc.sort_values(['Student ID','Course','Mark']).groupby(['Student ID','Course']).head(2)\n",
    "grades_sorted"
   ]
  },
  {
   "cell_type": "markdown",
   "id": "56dfecbd",
   "metadata": {},
   "source": [
    "## Fixing BC\n",
    "\n",
    "Since the BC courses are one semester only, the top grade is all that needs to be considered. First the BC courses are filtered out and sorted in a similar fashon as the A-G, but for these only the top grade will be selected."
   ]
  },
  {
   "cell_type": "code",
   "execution_count": null,
   "id": "af2241df",
   "metadata": {},
   "outputs": [],
   "source": [
    "merged"
   ]
  },
  {
   "cell_type": "code",
   "execution_count": null,
   "id": "98ab7d05",
   "metadata": {},
   "outputs": [],
   "source": [
    "# Getting BC courses\n",
    "bc_course = merged.loc[merged['Crs Lvl(BC: 24)'] == 24]\n",
    "bc_course"
   ]
  },
  {
   "cell_type": "code",
   "execution_count": null,
   "id": "8ffff8f4",
   "metadata": {},
   "outputs": [],
   "source": [
    "# Getting top BC grade\n",
    "bc_sorted = bc_course.sort_values(['Student ID','Course','Mark']).groupby(['Student ID','Course']).head(1)\n",
    "bc_sorted"
   ]
  },
  {
   "cell_type": "markdown",
   "id": "b39a78d1",
   "metadata": {},
   "source": [
    "## Adding BC Back to A-G\n",
    "\n",
    "Now that the A-G and the BC courses have been fixed the BC courses that are A-G will be filtered out then concatenated to the A-G dataframe so that calculations on courses taken and passed can occur."
   ]
  },
  {
   "cell_type": "code",
   "execution_count": null,
   "id": "6da246b7",
   "metadata": {},
   "outputs": [],
   "source": [
    "# Selecting A through G of the BC courses\n",
    "a_g_bc_courses = bc_sorted[bc_sorted['CSU Req_x'].notna()]\n",
    "a_g_bc_courses"
   ]
  },
  {
   "cell_type": "code",
   "execution_count": null,
   "id": "22db9cf5",
   "metadata": {},
   "outputs": [],
   "source": [
    "# Merging bc courses that are A through G with the A through G courses\n",
    "a_g_final = pd.concat([grades_sorted, a_g_bc_courses])"
   ]
  },
  {
   "cell_type": "code",
   "execution_count": null,
   "id": "6162f2d1",
   "metadata": {},
   "outputs": [],
   "source": [
    "# Sorting all values by student ID so that all of a students grades are next to each other\n",
    "a_g_final = a_g_final.sort_values(['Student ID','Course','Mark'])"
   ]
  },
  {
   "cell_type": "code",
   "execution_count": null,
   "id": "af17aa15",
   "metadata": {},
   "outputs": [],
   "source": [
    "a_g_final"
   ]
  },
  {
   "cell_type": "markdown",
   "id": "30fb52c0",
   "metadata": {},
   "source": [
    "## Calculating A through G Passed\n",
    "\n",
    "Now that the A-G is fixed and all together once again, courses that have been passed will get a value for one in a newly created column called A-G passed and courses failed will get a value of one in a newly created column called A-G failed.\n",
    "\n",
    "Students will be grouped by their Student ID number and then have the totals in each one of these columns summed up.\n",
    "\n",
    "A final column of total A-G will be created by adding up the sums for these two columns."
   ]
  },
  {
   "cell_type": "code",
   "execution_count": null,
   "id": "36ed5995",
   "metadata": {},
   "outputs": [],
   "source": [
    "# Filtering students with a grade greater than D and giving a point for passing a class\n",
    "a_g_passed = a_g_final[a_g_final['Mark'] < 'D']\n",
    "a_g_passed['A-G Passed'] = 1\n",
    "a_g_passed"
   ]
  },
  {
   "cell_type": "code",
   "execution_count": null,
   "id": "66a284e8",
   "metadata": {},
   "outputs": [],
   "source": [
    "# Filtering students with D and under and giving a point for failed class\n",
    "a_g_failed = a_g_final[a_g_final['Mark'] >= 'D']\n",
    "a_g_failed['A-G Failed'] = 1\n",
    "a_g_failed"
   ]
  },
  {
   "cell_type": "code",
   "execution_count": null,
   "id": "c85271e8",
   "metadata": {},
   "outputs": [],
   "source": [
    "# Summing up classes passed for each student\n",
    "passed_total = a_g_passed.groupby(by=['Student ID','School','Grade'])['A-G Passed'].sum().reset_index()\n",
    "passed_total"
   ]
  },
  {
   "cell_type": "code",
   "execution_count": null,
   "id": "600b790c",
   "metadata": {},
   "outputs": [],
   "source": [
    "# Summing up classes failed for each student\n",
    "failed_total = a_g_failed.groupby(by=['Student ID','School','Grade'])['A-G Failed'].sum().reset_index()\n",
    "failed_total"
   ]
  },
  {
   "cell_type": "code",
   "execution_count": null,
   "id": "0f0c609c",
   "metadata": {},
   "outputs": [],
   "source": [
    "# Merging passes and failed and assigning zero for any students who may not have data for either\n",
    "merged_ag = pd.merge(passed_total, failed_total, how='outer', on=['Student ID', 'School', 'Grade'])\n",
    "merged_ag.update(merged_ag[['A-G Passed','A-G Failed']].fillna(0))\n",
    "merged_ag"
   ]
  },
  {
   "cell_type": "code",
   "execution_count": null,
   "id": "5596c847",
   "metadata": {},
   "outputs": [],
   "source": [
    "# Creating a new column for total classes\n",
    "merged_ag['Total A-G Taken'] = merged_ag['A-G Passed'] + merged_ag['A-G Failed']\n",
    "merged_ag"
   ]
  },
  {
   "cell_type": "markdown",
   "id": "896ef991",
   "metadata": {},
   "source": [
    "## BC Courses Passed and Failed\n",
    "\n",
    "Completing the exact same method for the last section but now doing it for BC courses to find out how many student have take as well as passed or failed. But this has to be done in two steps:\n",
    "\n",
    "1) BC classes that are A-G which require a grade above D to pass.\n",
    "\n",
    "2) BC classes that are not A-G which just require a grade above an F to pass."
   ]
  },
  {
   "cell_type": "markdown",
   "id": "e86fa732",
   "metadata": {},
   "source": [
    "### A through G BC courses"
   ]
  },
  {
   "cell_type": "code",
   "execution_count": null,
   "id": "4abd81e2",
   "metadata": {},
   "outputs": [],
   "source": [
    "bc_sorted"
   ]
  },
  {
   "cell_type": "code",
   "execution_count": null,
   "id": "fa6aa4c9",
   "metadata": {},
   "outputs": [],
   "source": [
    "bc_ag = bc_sorted[bc_sorted['CSU Req_x'].notna()]\n",
    "bc_ag"
   ]
  },
  {
   "cell_type": "code",
   "execution_count": null,
   "id": "9d3aeca1",
   "metadata": {},
   "outputs": [],
   "source": [
    "bc_passed = bc_ag[bc_ag['Mark'] < 'D']\n",
    "bc_passed['BC Passed'] = 1\n",
    "bc_passed"
   ]
  },
  {
   "cell_type": "code",
   "execution_count": null,
   "id": "68392f0a",
   "metadata": {},
   "outputs": [],
   "source": [
    "bc_failed = bc_ag[bc_ag['Mark'] >= 'D']\n",
    "bc_failed['BC Failed'] = 1\n",
    "bc_failed"
   ]
  },
  {
   "cell_type": "code",
   "execution_count": null,
   "id": "66861fc0",
   "metadata": {},
   "outputs": [],
   "source": [
    "bc_notag = bc_sorted[bc_sorted['CSU Req_x'].isna()]\n",
    "bc_notag"
   ]
  },
  {
   "cell_type": "code",
   "execution_count": null,
   "id": "4da3e0f9",
   "metadata": {},
   "outputs": [],
   "source": [
    "bc_passed_notag = bc_notag[bc_notag['Mark'] < 'F']\n",
    "bc_passed_notag['BC Passed'] = 1\n",
    "bc_passed_notag"
   ]
  },
  {
   "cell_type": "code",
   "execution_count": null,
   "id": "a0e84a94",
   "metadata": {},
   "outputs": [],
   "source": [
    "bc_failed_notag = bc_notag[bc_notag['Mark'] >= 'F']\n",
    "bc_failed_notag['BC Failed'] = 1\n",
    "bc_failed_notag"
   ]
  },
  {
   "cell_type": "code",
   "execution_count": null,
   "id": "c1eac5de",
   "metadata": {},
   "outputs": [],
   "source": [
    "bc_total_passed = pd.concat([bc_passed, bc_passed_notag])\n",
    "bc_total_passed"
   ]
  },
  {
   "cell_type": "code",
   "execution_count": null,
   "id": "3561c72c",
   "metadata": {},
   "outputs": [],
   "source": [
    "bc_total_failed = pd.concat([bc_failed, bc_failed_notag])\n",
    "bc_total_failed"
   ]
  },
  {
   "cell_type": "code",
   "execution_count": null,
   "id": "149ae438",
   "metadata": {},
   "outputs": [],
   "source": [
    "passed_total_bc = bc_total_passed.groupby(by=['Student ID','School','Grade'])['BC Passed'].sum().reset_index()\n",
    "passed_total_bc"
   ]
  },
  {
   "cell_type": "code",
   "execution_count": null,
   "id": "3f15e1b3",
   "metadata": {},
   "outputs": [],
   "source": [
    "failed_total_bc = bc_total_failed.groupby(by=['Student ID','School','Grade'])['BC Failed'].sum().reset_index()\n",
    "failed_total_bc"
   ]
  },
  {
   "cell_type": "code",
   "execution_count": null,
   "id": "8edfff86",
   "metadata": {},
   "outputs": [],
   "source": [
    "merged_bc = pd.merge(passed_total_bc, failed_total_bc, how='outer', on=['Student ID', 'School', 'Grade'])\n",
    "merged_bc.update(merged_bc[['BC Passed','BC Failed']].fillna(0))\n",
    "merged_bc"
   ]
  },
  {
   "cell_type": "code",
   "execution_count": null,
   "id": "5eec00d8",
   "metadata": {},
   "outputs": [],
   "source": [
    "merged_bc['Total BC Taken'] = merged_bc['BC Passed'] + merged_bc['BC Failed']\n",
    "merged_bc"
   ]
  },
  {
   "cell_type": "code",
   "execution_count": null,
   "id": "3927c1f8",
   "metadata": {},
   "outputs": [],
   "source": [
    "classes_passed_failed = merged_bc = pd.merge(merged_ag, merged_bc, how='outer', on=['Student ID', 'School', 'Grade'])\n",
    "classes_passed_failed"
   ]
  },
  {
   "cell_type": "markdown",
   "id": "575a2f6d",
   "metadata": {},
   "source": [
    "## Writing File\n",
    "\n",
    "The final file will be generated as an excel with three sheets: the master list of courses that students have passed that is not cleaned up, the number of A-G courses passed and failed, and the number of BC courses passed and failed."
   ]
  },
  {
   "cell_type": "code",
   "execution_count": null,
   "id": "0ad1f10f",
   "metadata": {},
   "outputs": [],
   "source": [
    "with pd.ExcelWriter('ILPMasterCourses.xlsx') as writer:\n",
    "    a_g_final.to_excel(writer, sheet_name='A through G Courses')\n",
    "    bc_sorted.to_excel(writer, sheet_name='BC Courses')\n",
    "    classes_passed_failed.to_excel(writer, sheet_name='Total Pass and Fails')"
   ]
  },
  {
   "cell_type": "code",
   "execution_count": null,
   "id": "b1cfe4d6",
   "metadata": {},
   "outputs": [],
   "source": [
    "writer = pd.ExcelWriter(output_final)\n",
    "\n",
    "# Write each dataframe to a different worksheet.\n",
    "a_g_final.to_excel(writer, sheet_name='A through G Courses')\n",
    "c_sorted.to_excel(writer, sheet_name='BC Courses'\n",
    "classes_passed_failed.to_excel(writer, sheet_name='Total Pass and Fails')\n",
    "writer.save()"
   ]
  }
 ],
 "metadata": {
  "kernelspec": {
   "display_name": "Python 3 (ipykernel)",
   "language": "python",
   "name": "python3"
  },
  "language_info": {
   "codemirror_mode": {
    "name": "ipython",
    "version": 3
   },
   "file_extension": ".py",
   "mimetype": "text/x-python",
   "name": "python",
   "nbconvert_exporter": "python",
   "pygments_lexer": "ipython3",
   "version": "3.9.7"
  }
 },
 "nbformat": 4,
 "nbformat_minor": 5
}
